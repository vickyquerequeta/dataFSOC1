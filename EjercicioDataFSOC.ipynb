{
 "cells": [
  {
   "cell_type": "code",
   "execution_count": 1,
   "id": "af4dc929-edbe-4fc2-92d8-a69ff7430018",
   "metadata": {},
   "outputs": [
    {
     "name": "stdin",
     "output_type": "stream",
     "text": [
      "Ingrese su nombre Victoria\n",
      "Ingrese su edad 23\n"
     ]
    },
    {
     "name": "stdout",
     "output_type": "stream",
     "text": [
      "Hola Victoria tienes 23 años.\n"
     ]
    }
   ],
   "source": [
    "#Ejercicio 0: Variables y tipos de datos\n",
    "nombre = input(\"Ingrese su nombre\")\n",
    "edad= input(\"Ingrese su edad\")\n",
    "print(\"Hola\", nombre, \"tienes\", edad, \"años.\")"
   ]
  },
  {
   "cell_type": "code",
   "execution_count": 2,
   "id": "48b0648c-18cb-40d7-9bf7-83e9ee0c46f6",
   "metadata": {},
   "outputs": [
    {
     "name": "stdin",
     "output_type": "stream",
     "text": [
      "Ingrese un número:  -2\n"
     ]
    },
    {
     "name": "stdout",
     "output_type": "stream",
     "text": [
      "El número elegido es negativo\n"
     ]
    }
   ],
   "source": [
    "#Ejercicio 2: Condicionales simples\n",
    "numero = int(input(\"Ingrese un número: \"))\n",
    "if numero > 0:\n",
    "    print(\"El número elegido es positivo\")\n",
    "if numero < 0: \n",
    "    print(\"El número elegido es negativo\")"
   ]
  },
  {
   "cell_type": "code",
   "execution_count": 3,
   "id": "d9eabf35-3451-4099-88cd-a74c908ce219",
   "metadata": {},
   "outputs": [
    {
     "name": "stdin",
     "output_type": "stream",
     "text": [
      "Ingrese un número:  4\n",
      "Ingrese otro número:  5\n"
     ]
    },
    {
     "name": "stdout",
     "output_type": "stream",
     "text": [
      "4 es menor que 5\n"
     ]
    }
   ],
   "source": [
    "#Ejercicio 3: Condicionales con if y else\n",
    "numero_1 = int(input(\"Ingrese un número: \"))\n",
    "numero_2 = int(input(\"Ingrese otro número: \"))\n",
    "if numero_1 < numero_2: \n",
    "    print(numero_1, \"es menor que\", numero_2) \n",
    "else:\n",
    "    print(numero_1, \"es mayor que\", numero_2)"
   ]
  },
  {
   "cell_type": "code",
   "execution_count": 4,
   "id": "5ffa658f-dbd5-4862-a797-b415ad51eae5",
   "metadata": {},
   "outputs": [
    {
     "name": "stdout",
     "output_type": "stream",
     "text": [
      "Notas finales de curso\n"
     ]
    },
    {
     "name": "stdin",
     "output_type": "stream",
     "text": [
      "Ingrese la calificación obtenida en el examen. Recuerde que la misma va de 0 a 100  86\n"
     ]
    },
    {
     "name": "stdout",
     "output_type": "stream",
     "text": [
      "Su nota es B. Muy bueno\n"
     ]
    }
   ],
   "source": [
    "#Ejercicio 4: Condicionales anidados\n",
    "print(\"Notas finales de curso\")\n",
    "nota= int(input(\"Ingrese la calificación obtenida en el examen. Recuerde que la misma va de 0 a 100 \"))\n",
    "\n",
    "if nota >= 90 and 100:\n",
    "    print(\"Su nota es A. Excelente\")\n",
    "elif nota >= 80 and 89:\n",
    "    print (\"Su nota es B. Muy bueno\")\n",
    "elif nota >= 70 and 79:\n",
    "    print (\"Su nota es C. Bueno\")\n",
    "elif nota >= 60 and 69:\n",
    "    print (\"Su nota es D. Regular\")\n",
    "else:\n",
    "    print (\"Su nota es F. Debe recursar el curso\")"
   ]
  },
  {
   "cell_type": "code",
   "execution_count": null,
   "id": "a6ec3e32-7b96-42f4-abf4-c123eec428af",
   "metadata": {},
   "outputs": [],
   "source": [
    "#Ejercicio 5 (investigar)\n",
    "¿Qué es un array en informática?\n",
    "Los arrays son estructuras que nos permiten guardar una lista de valores; estos pueden contener variables en su interior o\n",
    "cualquier tipo de dato(booleano,entero,numérico) e incluso otros arrays.\n",
    "\n",
    "¿Qué es un ciclo iterativo?\n",
    "Un ciclo iterativo permite la repetición de diferentes operaciones hasta que se cumpla una determinada condición (previamente pautada)."
   ]
  }
 ],
 "metadata": {
  "kernelspec": {
   "display_name": "Python 3 (ipykernel)",
   "language": "python",
   "name": "python3"
  },
  "language_info": {
   "codemirror_mode": {
    "name": "ipython",
    "version": 3
   },
   "file_extension": ".py",
   "mimetype": "text/x-python",
   "name": "python",
   "nbconvert_exporter": "python",
   "pygments_lexer": "ipython3",
   "version": "3.11.5"
  }
 },
 "nbformat": 4,
 "nbformat_minor": 5
}
